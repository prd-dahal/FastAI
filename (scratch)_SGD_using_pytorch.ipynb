{
  "nbformat": 4,
  "nbformat_minor": 0,
  "metadata": {
    "colab": {
      "name": "(scratch) SGD using pytorch.ipynb",
      "provenance": []
    },
    "kernelspec": {
      "name": "python3",
      "display_name": "Python 3"
    }
  },
  "cells": [
    {
      "cell_type": "code",
      "metadata": {
        "id": "r8pGQXMmtq4q",
        "colab_type": "code",
        "colab": {}
      },
      "source": [
        "%matplotlib inline\n",
        "from fastai.basics import *\n",
        "from torch.autograd import Variable\n",
        "import torch\n",
        "from torch import *"
      ],
      "execution_count": 145,
      "outputs": []
    },
    {
      "cell_type": "code",
      "metadata": {
        "id": "ASdjiD8nWUTk",
        "colab_type": "code",
        "colab": {}
      },
      "source": [
        "n =100"
      ],
      "execution_count": 146,
      "outputs": []
    },
    {
      "cell_type": "code",
      "metadata": {
        "id": "SLdW5ZlUWXnG",
        "colab_type": "code",
        "colab": {
          "base_uri": "https://localhost:8080/",
          "height": 108
        },
        "outputId": "65dde55d-e9fb-4c38-eed9-92b653a86176"
      },
      "source": [
        "x = torch.ones(n,2)\n",
        "\n",
        "x[:,0].uniform_(-1,1)\n",
        "x[:5]\n"
      ],
      "execution_count": 147,
      "outputs": [
        {
          "output_type": "execute_result",
          "data": {
            "text/plain": [
              "tensor([[ 0.0913,  1.0000],\n",
              "        [-0.1431,  1.0000],\n",
              "        [-0.1174,  1.0000],\n",
              "        [-0.1092,  1.0000],\n",
              "        [-0.3435,  1.0000]])"
            ]
          },
          "metadata": {
            "tags": []
          },
          "execution_count": 147
        }
      ]
    },
    {
      "cell_type": "code",
      "metadata": {
        "id": "Dw2N8VfDXRjN",
        "colab_type": "code",
        "colab": {
          "base_uri": "https://localhost:8080/",
          "height": 35
        },
        "outputId": "7eb6fdb3-fb88-4609-a6df-66ad15b14421"
      },
      "source": [
        "a = tensor(3.,2);a"
      ],
      "execution_count": 148,
      "outputs": [
        {
          "output_type": "execute_result",
          "data": {
            "text/plain": [
              "tensor([3., 2.])"
            ]
          },
          "metadata": {
            "tags": []
          },
          "execution_count": 148
        }
      ]
    },
    {
      "cell_type": "code",
      "metadata": {
        "id": "XIyPIY_iYc9Z",
        "colab_type": "code",
        "colab": {}
      },
      "source": [
        "y = x@a + torch.rand(n)"
      ],
      "execution_count": 149,
      "outputs": []
    },
    {
      "cell_type": "code",
      "metadata": {
        "id": "XWKeavCXXiYf",
        "colab_type": "code",
        "colab": {
          "base_uri": "https://localhost:8080/",
          "height": 283
        },
        "outputId": "5957dc41-3c60-45bb-bdbb-250aefa76adb"
      },
      "source": [
        "plt.scatter(x[:,0],y)"
      ],
      "execution_count": 150,
      "outputs": [
        {
          "output_type": "execute_result",
          "data": {
            "text/plain": [
              "<matplotlib.collections.PathCollection at 0x7fc1fddda898>"
            ]
          },
          "metadata": {
            "tags": []
          },
          "execution_count": 150
        },
        {
          "output_type": "display_data",
          "data": {
            "image/png": "[encoded data removed]",
            "text/plain": [
              "<Figure size 432x288 with 1 Axes>"
            ]
          },
          "metadata": {
            "tags": [],
            "needs_background": "light"
          }
        }
      ]
    },
    {
      "cell_type": "code",
      "metadata": {
        "id": "V-jiCFSjZH4W",
        "colab_type": "code",
        "colab": {}
      },
      "source": [
        " def mse(y_hat, y):\n",
        "   return ((y_hat-y)**2).mean()"
      ],
      "execution_count": 151,
      "outputs": []
    },
    {
      "cell_type": "code",
      "metadata": {
        "id": "Y4zffXnGcyB5",
        "colab_type": "code",
        "colab": {}
      },
      "source": [
        "a = nn.Parameter(tensor(-1.,1))"
      ],
      "execution_count": 165,
      "outputs": []
    },
    {
      "cell_type": "code",
      "metadata": {
        "id": "SJGiYPdDc_sz",
        "colab_type": "code",
        "colab": {}
      },
      "source": [
        "y_hat = x@a"
      ],
      "execution_count": 157,
      "outputs": []
    },
    {
      "cell_type": "code",
      "metadata": {
        "id": "RwNeZwoZdCmA",
        "colab_type": "code",
        "colab": {
          "base_uri": "https://localhost:8080/",
          "height": 35
        },
        "outputId": "947300eb-aad0-472c-b544-a0c01a85befb"
      },
      "source": [
        "mse(y_hat,y)"
      ],
      "execution_count": 158,
      "outputs": [
        {
          "output_type": "execute_result",
          "data": {
            "text/plain": [
              "tensor(8.7280)"
            ]
          },
          "metadata": {
            "tags": []
          },
          "execution_count": 158
        }
      ]
    },
    {
      "cell_type": "code",
      "metadata": {
        "id": "F_6Kl4aYmeZp",
        "colab_type": "code",
        "colab": {
          "base_uri": "https://localhost:8080/",
          "height": 283
        },
        "outputId": "6680dac9-eca3-4095-e2ae-c01652667b7e"
      },
      "source": [
        "plt.scatter(x[:,0],y)\n",
        "plt.scatter(x[:,0],y_hat)"
      ],
      "execution_count": 159,
      "outputs": [
        {
          "output_type": "execute_result",
          "data": {
            "text/plain": [
              "<matplotlib.collections.PathCollection at 0x7fc1fdb9c780>"
            ]
          },
          "metadata": {
            "tags": []
          },
          "execution_count": 159
        },
        {
          "output_type": "display_data",
          "data": {
            "image/png": "[encoded data removed]",
            "text/plain": [
              "<Figure size 432x288 with 1 Axes>"
            ]
          },
          "metadata": {
            "tags": [],
            "needs_background": "light"
          }
        }
      ]
    },
    {
      "cell_type": "code",
      "metadata": {
        "id": "hSo0lGAqm0dF",
        "colab_type": "code",
        "colab": {}
      },
      "source": [
        "\n",
        "def update():\n",
        "    \n",
        "  y_hat = x@a\n",
        "  loss = mse(y, y_hat)\n",
        "  print(loss)\n",
        "  loss.backward()\n",
        "  with torch.no_grad():\n",
        "    a.sub_(lr * a.grad)\n",
        "    a.grad.zero_()"
      ],
      "execution_count": 166,
      "outputs": []
    },
    {
      "cell_type": "code",
      "metadata": {
        "id": "QOIxxMPlpB12",
        "colab_type": "code",
        "colab": {
          "base_uri": "https://localhost:8080/",
          "height": 1000
        },
        "outputId": "fb82aed6-2e8b-4738-f954-0f8020de74e6"
      },
      "source": [
        "lr = 1e-1\n",
        "for t in range(100): \n",
        "  update()"
      ],
      "execution_count": 167,
      "outputs": [
        {
          "output_type": "stream",
          "text": [
            "tensor(8.7280, grad_fn=<MeanBackward0>)\n",
            "tensor(6.7278, grad_fn=<MeanBackward0>)\n",
            "tensor(5.3045, grad_fn=<MeanBackward0>)\n",
            "tensor(4.2684, grad_fn=<MeanBackward0>)\n",
            "tensor(3.4957, grad_fn=<MeanBackward0>)\n",
            "tensor(2.9056, grad_fn=<MeanBackward0>)\n",
            "tensor(2.4445, grad_fn=<MeanBackward0>)\n",
            "tensor(2.0767, grad_fn=<MeanBackward0>)\n",
            "tensor(1.7780, grad_fn=<MeanBackward0>)\n",
            "tensor(1.5317, grad_fn=<MeanBackward0>)\n",
            "tensor(1.3261, grad_fn=<MeanBackward0>)\n",
            "tensor(1.1527, grad_fn=<MeanBackward0>)\n",
            "tensor(1.0054, grad_fn=<MeanBackward0>)\n",
            "tensor(0.8794, grad_fn=<MeanBackward0>)\n",
            "tensor(0.7713, grad_fn=<MeanBackward0>)\n",
            "tensor(0.6782, grad_fn=<MeanBackward0>)\n",
            "tensor(0.5977, grad_fn=<MeanBackward0>)\n",
            "tensor(0.5281, grad_fn=<MeanBackward0>)\n",
            "tensor(0.4677, grad_fn=<MeanBackward0>)\n",
            "tensor(0.4154, grad_fn=<MeanBackward0>)\n",
            "tensor(0.3700, grad_fn=<MeanBackward0>)\n",
            "tensor(0.3305, grad_fn=<MeanBackward0>)\n",
            "tensor(0.2962, grad_fn=<MeanBackward0>)\n",
            "tensor(0.2664, grad_fn=<MeanBackward0>)\n",
            "tensor(0.2405, grad_fn=<MeanBackward0>)\n",
            "tensor(0.2180, grad_fn=<MeanBackward0>)\n",
            "tensor(0.1984, grad_fn=<MeanBackward0>)\n",
            "tensor(0.1813, grad_fn=<MeanBackward0>)\n",
            "tensor(0.1665, grad_fn=<MeanBackward0>)\n",
            "tensor(0.1536, grad_fn=<MeanBackward0>)\n",
            "tensor(0.1424, grad_fn=<MeanBackward0>)\n",
            "tensor(0.1327, grad_fn=<MeanBackward0>)\n",
            "tensor(0.1242, grad_fn=<MeanBackward0>)\n",
            "tensor(0.1168, grad_fn=<MeanBackward0>)\n",
            "tensor(0.1104, grad_fn=<MeanBackward0>)\n",
            "tensor(0.1048, grad_fn=<MeanBackward0>)\n",
            "tensor(0.0999, grad_fn=<MeanBackward0>)\n",
            "tensor(0.0957, grad_fn=<MeanBackward0>)\n",
            "tensor(0.0920, grad_fn=<MeanBackward0>)\n",
            "tensor(0.0888, grad_fn=<MeanBackward0>)\n",
            "tensor(0.0860, grad_fn=<MeanBackward0>)\n",
            "tensor(0.0836, grad_fn=<MeanBackward0>)\n",
            "tensor(0.0815, grad_fn=<MeanBackward0>)\n",
            "tensor(0.0797, grad_fn=<MeanBackward0>)\n",
            "tensor(0.0781, grad_fn=<MeanBackward0>)\n",
            "tensor(0.0767, grad_fn=<MeanBackward0>)\n",
            "tensor(0.0755, grad_fn=<MeanBackward0>)\n",
            "tensor(0.0744, grad_fn=<MeanBackward0>)\n",
            "tensor(0.0735, grad_fn=<MeanBackward0>)\n",
            "tensor(0.0727, grad_fn=<MeanBackward0>)\n",
            "tensor(0.0720, grad_fn=<MeanBackward0>)\n",
            "tensor(0.0714, grad_fn=<MeanBackward0>)\n",
            "tensor(0.0709, grad_fn=<MeanBackward0>)\n",
            "tensor(0.0705, grad_fn=<MeanBackward0>)\n",
            "tensor(0.0701, grad_fn=<MeanBackward0>)\n",
            "tensor(0.0697, grad_fn=<MeanBackward0>)\n",
            "tensor(0.0694, grad_fn=<MeanBackward0>)\n",
            "tensor(0.0692, grad_fn=<MeanBackward0>)\n",
            "tensor(0.0689, grad_fn=<MeanBackward0>)\n",
            "tensor(0.0687, grad_fn=<MeanBackward0>)\n",
            "tensor(0.0686, grad_fn=<MeanBackward0>)\n",
            "tensor(0.0684, grad_fn=<MeanBackward0>)\n",
            "tensor(0.0683, grad_fn=<MeanBackward0>)\n",
            "tensor(0.0682, grad_fn=<MeanBackward0>)\n",
            "tensor(0.0681, grad_fn=<MeanBackward0>)\n",
            "tensor(0.0680, grad_fn=<MeanBackward0>)\n",
            "tensor(0.0679, grad_fn=<MeanBackward0>)\n",
            "tensor(0.0679, grad_fn=<MeanBackward0>)\n",
            "tensor(0.0678, grad_fn=<MeanBackward0>)\n",
            "tensor(0.0678, grad_fn=<MeanBackward0>)\n",
            "tensor(0.0677, grad_fn=<MeanBackward0>)\n",
            "tensor(0.0677, grad_fn=<MeanBackward0>)\n",
            "tensor(0.0676, grad_fn=<MeanBackward0>)\n",
            "tensor(0.0676, grad_fn=<MeanBackward0>)\n",
            "tensor(0.0676, grad_fn=<MeanBackward0>)\n",
            "tensor(0.0676, grad_fn=<MeanBackward0>)\n",
            "tensor(0.0676, grad_fn=<MeanBackward0>)\n",
            "tensor(0.0675, grad_fn=<MeanBackward0>)\n",
            "tensor(0.0675, grad_fn=<MeanBackward0>)\n",
            "tensor(0.0675, grad_fn=<MeanBackward0>)\n",
            "tensor(0.0675, grad_fn=<MeanBackward0>)\n",
            "tensor(0.0675, grad_fn=<MeanBackward0>)\n",
            "tensor(0.0675, grad_fn=<MeanBackward0>)\n",
            "tensor(0.0675, grad_fn=<MeanBackward0>)\n",
            "tensor(0.0675, grad_fn=<MeanBackward0>)\n",
            "tensor(0.0675, grad_fn=<MeanBackward0>)\n",
            "tensor(0.0675, grad_fn=<MeanBackward0>)\n",
            "tensor(0.0675, grad_fn=<MeanBackward0>)\n",
            "tensor(0.0675, grad_fn=<MeanBackward0>)\n",
            "tensor(0.0674, grad_fn=<MeanBackward0>)\n",
            "tensor(0.0674, grad_fn=<MeanBackward0>)\n",
            "tensor(0.0674, grad_fn=<MeanBackward0>)\n",
            "tensor(0.0674, grad_fn=<MeanBackward0>)\n",
            "tensor(0.0674, grad_fn=<MeanBackward0>)\n",
            "tensor(0.0674, grad_fn=<MeanBackward0>)\n",
            "tensor(0.0674, grad_fn=<MeanBackward0>)\n",
            "tensor(0.0674, grad_fn=<MeanBackward0>)\n",
            "tensor(0.0674, grad_fn=<MeanBackward0>)\n",
            "tensor(0.0674, grad_fn=<MeanBackward0>)\n",
            "tensor(0.0674, grad_fn=<MeanBackward0>)\n"
          ],
          "name": "stdout"
        }
      ]
    },
    {
      "cell_type": "code",
      "metadata": {
        "id": "8B5UYehiEGE2",
        "colab_type": "code",
        "colab": {
          "base_uri": "https://localhost:8080/",
          "height": 283
        },
        "outputId": "46ee3766-4143-46b9-feb4-02cdf8f0c282"
      },
      "source": [
        "#a = a.detach().numpy()\n",
        "\n",
        "plt.scatter(x[:,0],x@a)\n",
        "plt.scatter(x[:,0],y)"
      ],
      "execution_count": 177,
      "outputs": [
        {
          "output_type": "execute_result",
          "data": {
            "text/plain": [
              "<matplotlib.collections.PathCollection at 0x7fc1fda14d68>"
            ]
          },
          "metadata": {
            "tags": []
          },
          "execution_count": 177
        },
        {
          "output_type": "display_data",
          "data": {
            "image/png": "[encoded data removed]",
            "text/plain": [
              "<Figure size 432x288 with 1 Axes>"
            ]
          },
          "metadata": {
            "tags": [],
            "needs_background": "light"
          }
        }
      ]
    },
    {
      "cell_type": "code",
      "metadata": {
        "id": "CoLzjNcgS5pM",
        "colab_type": "code",
        "colab": {}
      },
      "source": [
        ""
      ],
      "execution_count": 173,
      "outputs": []
    }
  ]
}