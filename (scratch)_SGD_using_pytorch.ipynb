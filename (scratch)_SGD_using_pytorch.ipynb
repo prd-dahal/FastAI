{
  "nbformat": 4,
  "nbformat_minor": 0,
  "metadata": {
    "colab": {
      "name": "(scratch) SGD using pytorch.ipynb",
      "provenance": []
    },
    "kernelspec": {
      "name": "python3",
      "display_name": "Python 3"
    }
  },
  "cells": [
    {
      "cell_type": "code",
      "metadata": {
        "id": "r8pGQXMmtq4q",
        "colab_type": "code",
        "colab": {}
      },
      "source": [
        "%matplotlib inline\n",
        "from fastai.basics import *\n",
        "from torch.autograd import Variable\n",
        "import torch\n",
        "from torch import *"
      ],
      "execution_count": null,
      "outputs": []
    },
    {
      "cell_type": "code",
      "metadata": {
        "id": "ASdjiD8nWUTk",
        "colab_type": "code",
        "colab": {}
      },
      "source": [
        "n =100"
      ],
      "execution_count": null,
      "outputs": []
    },
    {
      "cell_type": "code",
      "metadata": {
        "id": "SLdW5ZlUWXnG",
        "colab_type": "code",
        "colab": {}
      },
      "source": [
        "x = torch.ones(n,2)\n",
        "\n",
        "x[:,0].uniform_(-1,1)\n",
        "x[:5]\n"
      ],
      "execution_count": null,
      "outputs": []
    },
    {
      "cell_type": "code",
      "metadata": {
        "id": "Dw2N8VfDXRjN",
        "colab_type": "code",
        "colab": {}
      },
      "source": [
        "a = tensor(3.,2);a"
      ],
      "execution_count": null,
      "outputs": []
    },
    {
      "cell_type": "code",
      "metadata": {
        "id": "XIyPIY_iYc9Z",
        "colab_type": "code",
        "colab": {}
      },
      "source": [
        "y = x@a + torch.rand(n)"
      ],
      "execution_count": null,
      "outputs": []
    },
    {
      "cell_type": "code",
      "metadata": {
        "id": "XWKeavCXXiYf",
        "colab_type": "code",
        "colab": {}
      },
      "source": [
        "plt.scatter(x[:,0],y)"
      ],
      "execution_count": null,
      "outputs": []
    },
    {
      "cell_type": "code",
      "metadata": {
        "id": "V-jiCFSjZH4W",
        "colab_type": "code",
        "colab": {}
      },
      "source": [
        " def mse(y_hat, y):\n",
        "   return ((y_hat-y)**2).mean()"
      ],
      "execution_count": null,
      "outputs": []
    },
    {
      "cell_type": "code",
      "metadata": {
        "id": "Y4zffXnGcyB5",
        "colab_type": "code",
        "colab": {}
      },
      "source": [
        "a = Variable(tensor(-1.,1),requires_grad=True)"
      ],
      "execution_count": null,
      "outputs": []
    },
    {
      "cell_type": "code",
      "metadata": {
        "id": "SJGiYPdDc_sz",
        "colab_type": "code",
        "colab": {}
      },
      "source": [
        "y_hat = x@a"
      ],
      "execution_count": null,
      "outputs": []
    },
    {
      "cell_type": "code",
      "metadata": {
        "id": "RwNeZwoZdCmA",
        "colab_type": "code",
        "colab": {}
      },
      "source": [
        "mse(y_hat,y)"
      ],
      "execution_count": null,
      "outputs": []
    },
    {
      "cell_type": "code",
      "metadata": {
        "id": "F_6Kl4aYmeZp",
        "colab_type": "code",
        "colab": {}
      },
      "source": [
        "plt.scatter(x[:,0],y)\n",
        "plt.scatter(x[:,0],y_hat)"
      ],
      "execution_count": null,
      "outputs": []
    },
    {
      "cell_type": "code",
      "metadata": {
        "id": "hSo0lGAqm0dF",
        "colab_type": "code",
        "colab": {}
      },
      "source": [
        "def update():\n",
        "  y_hat = x@a\n",
        "  loss = mse(y, y_hat)\n",
        "  print(loss)\n",
        "  loss.backward()\n",
        "  with torch.no_grad():\n",
        "    a.sub_(lr * a.grad)\n",
        "    a.grad.zero_()"
      ],
      "execution_count": null,
      "outputs": []
    },
    {
      "cell_type": "code",
      "metadata": {
        "id": "QOIxxMPlpB12",
        "colab_type": "code",
        "colab": {}
      },
      "source": [
        "lr = 1e-1\n",
        "for t in range(100): \n",
        "  update()"
      ],
      "execution_count": null,
      "outputs": []
    }
  ]
}